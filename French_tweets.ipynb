{
  "nbformat": 4,
  "nbformat_minor": 0,
  "metadata": {
    "colab": {
      "provenance": []
    },
    "kernelspec": {
      "name": "python3",
      "display_name": "Python 3"
    },
    "language_info": {
      "name": "python"
    }
  },
  "cells": [
    {
      "cell_type": "markdown",
      "source": [
        "#Importation des bibliothéques nécessaires"
      ],
      "metadata": {
        "id": "nrRABTKX7-wr"
      }
    },
    {
      "cell_type": "code",
      "execution_count": 2,
      "metadata": {
        "id": "98GBJolzRVJV"
      },
      "outputs": [],
      "source": [
        "import pandas as pd \n",
        "from google.colab import drive\n",
        "import re\n",
        "from sklearn.model_selection import train_test_split\n",
        "from keras.preprocessing.text import Tokenizer\n",
        "from tensorflow.keras.preprocessing.sequence import pad_sequences\n",
        "import numpy as np"
      ]
    },
    {
      "cell_type": "code",
      "source": [
        "# Keras\n",
        "import tensorflow as tf\n",
        "from tensorflow import keras\n",
        "from tensorflow.keras import layers\n",
        "from keras.models import Sequential\n",
        "from keras.layers import Dense, Activation, LSTM\n",
        "import keras\n",
        "from keras.optimizers import SGD, Adam\n",
        "from keras.layers import Embedding"
      ],
      "metadata": {
        "id": "NyXjY1dVOl_n"
      },
      "execution_count": 3,
      "outputs": []
    },
    {
      "cell_type": "code",
      "source": [
        "from nltk.corpus import stopwords\n",
        "import nltk\n",
        "nltk.download('stopwords')"
      ],
      "metadata": {
        "colab": {
          "base_uri": "https://localhost:8080/"
        },
        "id": "mvbcemU8ZLrb",
        "outputId": "342895f2-83dd-4471-8521-29179091861f"
      },
      "execution_count": 4,
      "outputs": [
        {
          "output_type": "stream",
          "name": "stderr",
          "text": [
            "[nltk_data] Downloading package stopwords to /root/nltk_data...\n",
            "[nltk_data]   Unzipping corpora/stopwords.zip.\n"
          ]
        },
        {
          "output_type": "execute_result",
          "data": {
            "text/plain": [
              "True"
            ]
          },
          "metadata": {},
          "execution_count": 4
        }
      ]
    },
    {
      "cell_type": "code",
      "source": [
        "from sklearn.metrics import accuracy_score, precision_score, recall_score, f1_score"
      ],
      "metadata": {
        "id": "qRFCRYra8EEA"
      },
      "execution_count": 5,
      "outputs": []
    },
    {
      "cell_type": "markdown",
      "source": [
        "#Étape 1 : Chargement et prétraitement des données"
      ],
      "metadata": {
        "id": "KqRDO2qd4U5p"
      }
    },
    {
      "cell_type": "code",
      "source": [
        "drive.mount('/content/drive',force_remount=False)\n",
        "\n",
        "df = pd.read_csv(\"/content/drive/MyDrive/french_tweets.csv\",\n",
        "                    header=None,encoding_errors='ignore') \n"
      ],
      "metadata": {
        "colab": {
          "base_uri": "https://localhost:8080/"
        },
        "id": "4kGlKvZEXK7B",
        "outputId": "df681347-6166-47bd-bc8e-760a841fc529"
      },
      "execution_count": 6,
      "outputs": [
        {
          "output_type": "stream",
          "name": "stdout",
          "text": [
            "Mounted at /content/drive\n"
          ]
        },
        {
          "output_type": "stream",
          "name": "stderr",
          "text": [
            "<ipython-input-6-54eb4dbb0294>:3: DtypeWarning: Columns (0) have mixed types. Specify dtype option on import or set low_memory=False.\n",
            "  df = pd.read_csv(\"/content/drive/MyDrive/french_tweets.csv\",\n"
          ]
        }
      ]
    },
    {
      "cell_type": "code",
      "source": [
        "df.head() #on voit que le nom des colonnes sont sur la première ligne, on va donc la supprimer et renommer les colonnes"
      ],
      "metadata": {
        "colab": {
          "base_uri": "https://localhost:8080/",
          "height": 206
        },
        "id": "qZtuYsTFeXGh",
        "outputId": "a46d726c-3a45-406a-be5c-4e23b038c1ba"
      },
      "execution_count": 7,
      "outputs": [
        {
          "output_type": "execute_result",
          "data": {
            "text/plain": [
              "       0                                                  1\n",
              "0  label                                               text\n",
              "1      0  - Awww, c'est un bummer. Tu devrais avoir davi...\n",
              "2      0  Est contrarié qu'il ne puisse pas mettre à jou...\n",
              "3      0  J'ai plongé plusieurs fois pour la balle. A ré...\n",
              "4      0  Tout mon corps a des démangeaisons et comme si..."
            ],
            "text/html": [
              "\n",
              "  <div id=\"df-c614e682-5fef-40f0-87a5-f0220b198403\">\n",
              "    <div class=\"colab-df-container\">\n",
              "      <div>\n",
              "<style scoped>\n",
              "    .dataframe tbody tr th:only-of-type {\n",
              "        vertical-align: middle;\n",
              "    }\n",
              "\n",
              "    .dataframe tbody tr th {\n",
              "        vertical-align: top;\n",
              "    }\n",
              "\n",
              "    .dataframe thead th {\n",
              "        text-align: right;\n",
              "    }\n",
              "</style>\n",
              "<table border=\"1\" class=\"dataframe\">\n",
              "  <thead>\n",
              "    <tr style=\"text-align: right;\">\n",
              "      <th></th>\n",
              "      <th>0</th>\n",
              "      <th>1</th>\n",
              "    </tr>\n",
              "  </thead>\n",
              "  <tbody>\n",
              "    <tr>\n",
              "      <th>0</th>\n",
              "      <td>label</td>\n",
              "      <td>text</td>\n",
              "    </tr>\n",
              "    <tr>\n",
              "      <th>1</th>\n",
              "      <td>0</td>\n",
              "      <td>- Awww, c'est un bummer. Tu devrais avoir davi...</td>\n",
              "    </tr>\n",
              "    <tr>\n",
              "      <th>2</th>\n",
              "      <td>0</td>\n",
              "      <td>Est contrarié qu'il ne puisse pas mettre à jou...</td>\n",
              "    </tr>\n",
              "    <tr>\n",
              "      <th>3</th>\n",
              "      <td>0</td>\n",
              "      <td>J'ai plongé plusieurs fois pour la balle. A ré...</td>\n",
              "    </tr>\n",
              "    <tr>\n",
              "      <th>4</th>\n",
              "      <td>0</td>\n",
              "      <td>Tout mon corps a des démangeaisons et comme si...</td>\n",
              "    </tr>\n",
              "  </tbody>\n",
              "</table>\n",
              "</div>\n",
              "      <button class=\"colab-df-convert\" onclick=\"convertToInteractive('df-c614e682-5fef-40f0-87a5-f0220b198403')\"\n",
              "              title=\"Convert this dataframe to an interactive table.\"\n",
              "              style=\"display:none;\">\n",
              "        \n",
              "  <svg xmlns=\"http://www.w3.org/2000/svg\" height=\"24px\"viewBox=\"0 0 24 24\"\n",
              "       width=\"24px\">\n",
              "    <path d=\"M0 0h24v24H0V0z\" fill=\"none\"/>\n",
              "    <path d=\"M18.56 5.44l.94 2.06.94-2.06 2.06-.94-2.06-.94-.94-2.06-.94 2.06-2.06.94zm-11 1L8.5 8.5l.94-2.06 2.06-.94-2.06-.94L8.5 2.5l-.94 2.06-2.06.94zm10 10l.94 2.06.94-2.06 2.06-.94-2.06-.94-.94-2.06-.94 2.06-2.06.94z\"/><path d=\"M17.41 7.96l-1.37-1.37c-.4-.4-.92-.59-1.43-.59-.52 0-1.04.2-1.43.59L10.3 9.45l-7.72 7.72c-.78.78-.78 2.05 0 2.83L4 21.41c.39.39.9.59 1.41.59.51 0 1.02-.2 1.41-.59l7.78-7.78 2.81-2.81c.8-.78.8-2.07 0-2.86zM5.41 20L4 18.59l7.72-7.72 1.47 1.35L5.41 20z\"/>\n",
              "  </svg>\n",
              "      </button>\n",
              "      \n",
              "  <style>\n",
              "    .colab-df-container {\n",
              "      display:flex;\n",
              "      flex-wrap:wrap;\n",
              "      gap: 12px;\n",
              "    }\n",
              "\n",
              "    .colab-df-convert {\n",
              "      background-color: #E8F0FE;\n",
              "      border: none;\n",
              "      border-radius: 50%;\n",
              "      cursor: pointer;\n",
              "      display: none;\n",
              "      fill: #1967D2;\n",
              "      height: 32px;\n",
              "      padding: 0 0 0 0;\n",
              "      width: 32px;\n",
              "    }\n",
              "\n",
              "    .colab-df-convert:hover {\n",
              "      background-color: #E2EBFA;\n",
              "      box-shadow: 0px 1px 2px rgba(60, 64, 67, 0.3), 0px 1px 3px 1px rgba(60, 64, 67, 0.15);\n",
              "      fill: #174EA6;\n",
              "    }\n",
              "\n",
              "    [theme=dark] .colab-df-convert {\n",
              "      background-color: #3B4455;\n",
              "      fill: #D2E3FC;\n",
              "    }\n",
              "\n",
              "    [theme=dark] .colab-df-convert:hover {\n",
              "      background-color: #434B5C;\n",
              "      box-shadow: 0px 1px 3px 1px rgba(0, 0, 0, 0.15);\n",
              "      filter: drop-shadow(0px 1px 2px rgba(0, 0, 0, 0.3));\n",
              "      fill: #FFFFFF;\n",
              "    }\n",
              "  </style>\n",
              "\n",
              "      <script>\n",
              "        const buttonEl =\n",
              "          document.querySelector('#df-c614e682-5fef-40f0-87a5-f0220b198403 button.colab-df-convert');\n",
              "        buttonEl.style.display =\n",
              "          google.colab.kernel.accessAllowed ? 'block' : 'none';\n",
              "\n",
              "        async function convertToInteractive(key) {\n",
              "          const element = document.querySelector('#df-c614e682-5fef-40f0-87a5-f0220b198403');\n",
              "          const dataTable =\n",
              "            await google.colab.kernel.invokeFunction('convertToInteractive',\n",
              "                                                     [key], {});\n",
              "          if (!dataTable) return;\n",
              "\n",
              "          const docLinkHtml = 'Like what you see? Visit the ' +\n",
              "            '<a target=\"_blank\" href=https://colab.research.google.com/notebooks/data_table.ipynb>data table notebook</a>'\n",
              "            + ' to learn more about interactive tables.';\n",
              "          element.innerHTML = '';\n",
              "          dataTable['output_type'] = 'display_data';\n",
              "          await google.colab.output.renderOutput(dataTable, element);\n",
              "          const docLink = document.createElement('div');\n",
              "          docLink.innerHTML = docLinkHtml;\n",
              "          element.appendChild(docLink);\n",
              "        }\n",
              "      </script>\n",
              "    </div>\n",
              "  </div>\n",
              "  "
            ]
          },
          "metadata": {},
          "execution_count": 7
        }
      ]
    },
    {
      "cell_type": "code",
      "source": [
        "#supprime la premiere ligne\n",
        "df = df.drop(0,axis =0)"
      ],
      "metadata": {
        "id": "Qf60Phnaeuab"
      },
      "execution_count": 8,
      "outputs": []
    },
    {
      "cell_type": "code",
      "source": [
        "# Renommage des colonnes et sélection des colonnes utiles\n",
        "df.columns = [\"target\", \"tweets\"]\n",
        "df = df[[\"target\", \"tweets\"]]"
      ],
      "metadata": {
        "id": "3cF0tuM7gJmH"
      },
      "execution_count": 9,
      "outputs": []
    },
    {
      "cell_type": "code",
      "source": [
        "df.head()"
      ],
      "metadata": {
        "colab": {
          "base_uri": "https://localhost:8080/",
          "height": 206
        },
        "id": "cXMj5kC9fPTH",
        "outputId": "b99a7964-3a5c-41db-d286-1dfb4fa7ec52"
      },
      "execution_count": 10,
      "outputs": [
        {
          "output_type": "execute_result",
          "data": {
            "text/plain": [
              "  target                                             tweets\n",
              "1      0  - Awww, c'est un bummer. Tu devrais avoir davi...\n",
              "2      0  Est contrarié qu'il ne puisse pas mettre à jou...\n",
              "3      0  J'ai plongé plusieurs fois pour la balle. A ré...\n",
              "4      0  Tout mon corps a des démangeaisons et comme si...\n",
              "5      0  Non, il ne se comporte pas du tout. je suis en..."
            ],
            "text/html": [
              "\n",
              "  <div id=\"df-dc61b7d6-d3be-433b-b036-068f5636d25d\">\n",
              "    <div class=\"colab-df-container\">\n",
              "      <div>\n",
              "<style scoped>\n",
              "    .dataframe tbody tr th:only-of-type {\n",
              "        vertical-align: middle;\n",
              "    }\n",
              "\n",
              "    .dataframe tbody tr th {\n",
              "        vertical-align: top;\n",
              "    }\n",
              "\n",
              "    .dataframe thead th {\n",
              "        text-align: right;\n",
              "    }\n",
              "</style>\n",
              "<table border=\"1\" class=\"dataframe\">\n",
              "  <thead>\n",
              "    <tr style=\"text-align: right;\">\n",
              "      <th></th>\n",
              "      <th>target</th>\n",
              "      <th>tweets</th>\n",
              "    </tr>\n",
              "  </thead>\n",
              "  <tbody>\n",
              "    <tr>\n",
              "      <th>1</th>\n",
              "      <td>0</td>\n",
              "      <td>- Awww, c'est un bummer. Tu devrais avoir davi...</td>\n",
              "    </tr>\n",
              "    <tr>\n",
              "      <th>2</th>\n",
              "      <td>0</td>\n",
              "      <td>Est contrarié qu'il ne puisse pas mettre à jou...</td>\n",
              "    </tr>\n",
              "    <tr>\n",
              "      <th>3</th>\n",
              "      <td>0</td>\n",
              "      <td>J'ai plongé plusieurs fois pour la balle. A ré...</td>\n",
              "    </tr>\n",
              "    <tr>\n",
              "      <th>4</th>\n",
              "      <td>0</td>\n",
              "      <td>Tout mon corps a des démangeaisons et comme si...</td>\n",
              "    </tr>\n",
              "    <tr>\n",
              "      <th>5</th>\n",
              "      <td>0</td>\n",
              "      <td>Non, il ne se comporte pas du tout. je suis en...</td>\n",
              "    </tr>\n",
              "  </tbody>\n",
              "</table>\n",
              "</div>\n",
              "      <button class=\"colab-df-convert\" onclick=\"convertToInteractive('df-dc61b7d6-d3be-433b-b036-068f5636d25d')\"\n",
              "              title=\"Convert this dataframe to an interactive table.\"\n",
              "              style=\"display:none;\">\n",
              "        \n",
              "  <svg xmlns=\"http://www.w3.org/2000/svg\" height=\"24px\"viewBox=\"0 0 24 24\"\n",
              "       width=\"24px\">\n",
              "    <path d=\"M0 0h24v24H0V0z\" fill=\"none\"/>\n",
              "    <path d=\"M18.56 5.44l.94 2.06.94-2.06 2.06-.94-2.06-.94-.94-2.06-.94 2.06-2.06.94zm-11 1L8.5 8.5l.94-2.06 2.06-.94-2.06-.94L8.5 2.5l-.94 2.06-2.06.94zm10 10l.94 2.06.94-2.06 2.06-.94-2.06-.94-.94-2.06-.94 2.06-2.06.94z\"/><path d=\"M17.41 7.96l-1.37-1.37c-.4-.4-.92-.59-1.43-.59-.52 0-1.04.2-1.43.59L10.3 9.45l-7.72 7.72c-.78.78-.78 2.05 0 2.83L4 21.41c.39.39.9.59 1.41.59.51 0 1.02-.2 1.41-.59l7.78-7.78 2.81-2.81c.8-.78.8-2.07 0-2.86zM5.41 20L4 18.59l7.72-7.72 1.47 1.35L5.41 20z\"/>\n",
              "  </svg>\n",
              "      </button>\n",
              "      \n",
              "  <style>\n",
              "    .colab-df-container {\n",
              "      display:flex;\n",
              "      flex-wrap:wrap;\n",
              "      gap: 12px;\n",
              "    }\n",
              "\n",
              "    .colab-df-convert {\n",
              "      background-color: #E8F0FE;\n",
              "      border: none;\n",
              "      border-radius: 50%;\n",
              "      cursor: pointer;\n",
              "      display: none;\n",
              "      fill: #1967D2;\n",
              "      height: 32px;\n",
              "      padding: 0 0 0 0;\n",
              "      width: 32px;\n",
              "    }\n",
              "\n",
              "    .colab-df-convert:hover {\n",
              "      background-color: #E2EBFA;\n",
              "      box-shadow: 0px 1px 2px rgba(60, 64, 67, 0.3), 0px 1px 3px 1px rgba(60, 64, 67, 0.15);\n",
              "      fill: #174EA6;\n",
              "    }\n",
              "\n",
              "    [theme=dark] .colab-df-convert {\n",
              "      background-color: #3B4455;\n",
              "      fill: #D2E3FC;\n",
              "    }\n",
              "\n",
              "    [theme=dark] .colab-df-convert:hover {\n",
              "      background-color: #434B5C;\n",
              "      box-shadow: 0px 1px 3px 1px rgba(0, 0, 0, 0.15);\n",
              "      filter: drop-shadow(0px 1px 2px rgba(0, 0, 0, 0.3));\n",
              "      fill: #FFFFFF;\n",
              "    }\n",
              "  </style>\n",
              "\n",
              "      <script>\n",
              "        const buttonEl =\n",
              "          document.querySelector('#df-dc61b7d6-d3be-433b-b036-068f5636d25d button.colab-df-convert');\n",
              "        buttonEl.style.display =\n",
              "          google.colab.kernel.accessAllowed ? 'block' : 'none';\n",
              "\n",
              "        async function convertToInteractive(key) {\n",
              "          const element = document.querySelector('#df-dc61b7d6-d3be-433b-b036-068f5636d25d');\n",
              "          const dataTable =\n",
              "            await google.colab.kernel.invokeFunction('convertToInteractive',\n",
              "                                                     [key], {});\n",
              "          if (!dataTable) return;\n",
              "\n",
              "          const docLinkHtml = 'Like what you see? Visit the ' +\n",
              "            '<a target=\"_blank\" href=https://colab.research.google.com/notebooks/data_table.ipynb>data table notebook</a>'\n",
              "            + ' to learn more about interactive tables.';\n",
              "          element.innerHTML = '';\n",
              "          dataTable['output_type'] = 'display_data';\n",
              "          await google.colab.output.renderOutput(dataTable, element);\n",
              "          const docLink = document.createElement('div');\n",
              "          docLink.innerHTML = docLinkHtml;\n",
              "          element.appendChild(docLink);\n",
              "        }\n",
              "      </script>\n",
              "    </div>\n",
              "  </div>\n",
              "  "
            ]
          },
          "metadata": {},
          "execution_count": 10
        }
      ]
    },
    {
      "cell_type": "code",
      "source": [
        "#On choisit 10000 d'éléments pour la phase d'apprentissage\n",
        "N=10000\n",
        "df = pd.concat([df.head(N),df.tail(N)], axis=0)"
      ],
      "metadata": {
        "id": "xd5eJ6NTXy_U"
      },
      "execution_count": 11,
      "outputs": []
    },
    {
      "cell_type": "markdown",
      "source": [
        "#Étape 2 : Préparation des données pour le modèle\n"
      ],
      "metadata": {
        "id": "ecTxwQNX6_w9"
      }
    },
    {
      "cell_type": "code",
      "source": [
        "#nettoyage des données \n",
        "stop_words = stopwords.words('french')\n",
        "\n",
        "def nettoyage(text):\n",
        "    text = text.lower()\n",
        "    text = text.replace('\\n', ' ').replace('\\r', '')\n",
        "    text = ' '.join(text.split())\n",
        "    text = re.sub(r\"[A-Za-z\\.]*[0-9]+[A-Za-z%°\\.]*\", \"\", text)\n",
        "    text = re.sub(r\"(\\s\\-\\s|-$)\", \"\", text)\n",
        "    text = re.sub(r\"[,\\!\\?\\%\\(\\)\\/\\\"]\", \"\", text)\n",
        "    text = re.sub(r\"\\&\\S*\\s\", \"\", text)\n",
        "    text = re.sub(r\"\\&\", \"\", text)\n",
        "    text = re.sub(r\"\\+\", \"\", text)\n",
        "    text = re.sub(r\"\\#\", \"\", text)\n",
        "    text = re.sub(r\"\\$\", \"\", text)\n",
        "    text = re.sub(r\"\\£\", \"\", text)\n",
        "    text = re.sub(r\"\\%\", \"\", text)\n",
        "    text = re.sub(r\"\\:\", \"\", text)\n",
        "    text = re.sub(r\"\\@\", \"\", text)\n",
        "    text = re.sub(r\"\\-\", \"\", text)\n",
        "    words = [word for word in text if word not in stop_words]\n",
        "    return text\n"
      ],
      "metadata": {
        "id": "SJUtNKbqWLvD"
      },
      "execution_count": 12,
      "outputs": []
    },
    {
      "cell_type": "code",
      "source": [
        "df[\"tweets\"] = df[\"tweets\"].apply(nettoyage)"
      ],
      "metadata": {
        "id": "TKHzRFkPXpfx"
      },
      "execution_count": 13,
      "outputs": []
    },
    {
      "cell_type": "code",
      "source": [
        "train_data,test_data = train_test_split(df, test_size=0.2, random_state=42)"
      ],
      "metadata": {
        "id": "XNeQe1p8aDWt"
      },
      "execution_count": 14,
      "outputs": []
    },
    {
      "cell_type": "code",
      "source": [
        "train_tweets = train_data['tweets']\n",
        "train_labels = train_data['target']\n",
        "test_tweets = test_data['tweets']\n",
        "test_labels = test_data['target']"
      ],
      "metadata": {
        "id": "izOXyZiJMUFm"
      },
      "execution_count": 15,
      "outputs": []
    },
    {
      "cell_type": "code",
      "source": [
        "# Initialisez un Tokenizer avec un nombre maximum de mots de 5000\n",
        "tokenizer = Tokenizer(num_words=5000)\n",
        "tokenizer.fit_on_texts(train_tweets)"
      ],
      "metadata": {
        "id": "gdjHQDUkjcL7"
      },
      "execution_count": 16,
      "outputs": []
    },
    {
      "cell_type": "code",
      "source": [
        "# Convertir les tweets en séquences de nombres (indices de mots)\n",
        "train_tweets = tokenizer.texts_to_sequences(train_tweets)\n",
        "test_tweets = tokenizer.texts_to_sequences(test_tweets)"
      ],
      "metadata": {
        "id": "c77DSNcwLtdQ"
      },
      "execution_count": 17,
      "outputs": []
    },
    {
      "cell_type": "code",
      "source": [
        "# Remplir (padding) les séquences pour qu'elles aient toutes la même longueur\n",
        "maxlen = 50\n",
        "train_sequences = pad_sequences(train_tweets, padding='post', maxlen=maxlen)\n",
        "test_sequences = pad_sequences(test_tweets, padding='post', maxlen=maxlen)"
      ],
      "metadata": {
        "id": "aPVW8BSrNRZk"
      },
      "execution_count": 18,
      "outputs": []
    },
    {
      "cell_type": "code",
      "source": [
        "train_sequences"
      ],
      "metadata": {
        "colab": {
          "base_uri": "https://localhost:8080/"
        },
        "id": "-b1YIcFBR2xD",
        "outputId": "5d893c2f-705f-4a81-c873-6f3cc634a077"
      },
      "execution_count": 19,
      "outputs": [
        {
          "output_type": "execute_result",
          "data": {
            "text/plain": [
              "array([[  17,  424,   45, ...,    0,    0,    0],\n",
              "       [ 857,   17,   86, ...,    0,    0,    0],\n",
              "       [   2,  966, 2052, ...,    0,    0,    0],\n",
              "       ...,\n",
              "       [  55,   16,  130, ...,    0,    0,    0],\n",
              "       [  12,   21, 1129, ...,    0,    0,    0],\n",
              "       [  42,  297, 2024, ...,    0,    0,    0]], dtype=int32)"
            ]
          },
          "metadata": {},
          "execution_count": 19
        }
      ]
    },
    {
      "cell_type": "code",
      "source": [
        "# Convertir les labels en vecteurs binaires\n",
        "train_labels = train_labels.astype('int')\n",
        "test_labels = test_labels.astype('int')\n",
        "train_labels = np.eye(2)[train_labels]\n",
        "test_labels = np.eye(2)[test_labels]"
      ],
      "metadata": {
        "id": "DMcvnaNJNkVi"
      },
      "execution_count": 20,
      "outputs": []
    },
    {
      "cell_type": "code",
      "source": [
        "train_labels"
      ],
      "metadata": {
        "colab": {
          "base_uri": "https://localhost:8080/"
        },
        "id": "OcUFe1TWR9qt",
        "outputId": "5d60f48b-2ab3-4927-d2c5-5197861b219e"
      },
      "execution_count": 21,
      "outputs": [
        {
          "output_type": "execute_result",
          "data": {
            "text/plain": [
              "array([[1., 0.],\n",
              "       [1., 0.],\n",
              "       [1., 0.],\n",
              "       ...,\n",
              "       [1., 0.],\n",
              "       [1., 0.],\n",
              "       [0., 1.]])"
            ]
          },
          "metadata": {},
          "execution_count": 21
        }
      ]
    },
    {
      "cell_type": "markdown",
      "source": [
        "#Étape 3 : Développement et entraînement du modèle"
      ],
      "metadata": {
        "id": "1tFb43Jy7Dgh"
      }
    },
    {
      "cell_type": "code",
      "source": [
        "# Définir le modèle LSTM\n",
        "model = Sequential()\n",
        "model.add(Embedding(input_dim=5000, output_dim=50, input_length=maxlen))\n",
        "model.add(LSTM(units=128, dropout=0.2, recurrent_dropout=0.2))\n",
        "model.add(Dense(units=2, activation='softmax'))"
      ],
      "metadata": {
        "id": "0P_2NZjEObmR"
      },
      "execution_count": 22,
      "outputs": []
    },
    {
      "cell_type": "code",
      "source": [
        "# Compiler le modèle\n",
        "model.compile(loss='binary_crossentropy', optimizer='adam', metrics=['accuracy']) "
      ],
      "metadata": {
        "id": "ZK9IuIomPNCU"
      },
      "execution_count": 23,
      "outputs": []
    },
    {
      "cell_type": "code",
      "source": [
        "#Entraîner le modèle\n",
        "history = model.fit(train_sequences, train_labels, epochs=10, batch_size=10000, validation_split=0.2) \n",
        "#augmenter le batch size plus grand peut aller plus vite mais on risque le surapprentissage , on peut aussi changer la fonction de perte ou d'optimizer"
      ],
      "metadata": {
        "colab": {
          "base_uri": "https://localhost:8080/"
        },
        "id": "_YITNyAoPUd1",
        "outputId": "1ff17229-19e5-49e9-cb9b-fce5eac38ea5"
      },
      "execution_count": 27,
      "outputs": [
        {
          "output_type": "stream",
          "name": "stdout",
          "text": [
            "Epoch 1/10\n",
            "2/2 [==============================] - 16s 4s/step - loss: 0.4944 - accuracy: 0.7823 - val_loss: 0.5544 - val_accuracy: 0.7312\n",
            "Epoch 2/10\n",
            "2/2 [==============================] - 16s 4s/step - loss: 0.4708 - accuracy: 0.8004 - val_loss: 0.5789 - val_accuracy: 0.7150\n",
            "Epoch 3/10\n",
            "2/2 [==============================] - 16s 4s/step - loss: 0.4586 - accuracy: 0.8024 - val_loss: 0.5813 - val_accuracy: 0.7375\n",
            "Epoch 4/10\n",
            "2/2 [==============================] - 16s 4s/step - loss: 0.4445 - accuracy: 0.8161 - val_loss: 0.5423 - val_accuracy: 0.7337\n",
            "Epoch 5/10\n",
            "2/2 [==============================] - 16s 4s/step - loss: 0.4292 - accuracy: 0.8286 - val_loss: 0.5847 - val_accuracy: 0.7359\n",
            "Epoch 6/10\n",
            "2/2 [==============================] - 18s 6s/step - loss: 0.4112 - accuracy: 0.8348 - val_loss: 0.5791 - val_accuracy: 0.7341\n",
            "Epoch 7/10\n",
            "2/2 [==============================] - 16s 5s/step - loss: 0.3984 - accuracy: 0.8414 - val_loss: 0.5613 - val_accuracy: 0.7303\n",
            "Epoch 8/10\n",
            "2/2 [==============================] - 16s 4s/step - loss: 0.3877 - accuracy: 0.8483 - val_loss: 0.5947 - val_accuracy: 0.7334\n",
            "Epoch 9/10\n",
            "2/2 [==============================] - 18s 4s/step - loss: 0.3773 - accuracy: 0.8537 - val_loss: 0.5685 - val_accuracy: 0.7319\n",
            "Epoch 10/10\n",
            "2/2 [==============================] - 17s 4s/step - loss: 0.3697 - accuracy: 0.8558 - val_loss: 0.6065 - val_accuracy: 0.7325\n"
          ]
        }
      ]
    },
    {
      "cell_type": "markdown",
      "source": [
        "#Étape 4 : Évaluation du modèle"
      ],
      "metadata": {
        "id": "N0Qnx0md7Q4h"
      }
    },
    {
      "cell_type": "code",
      "source": [
        "perte, précision = model.evaluate(test_sequences,test_labels)\n",
        "print('Précision :', précision)\n",
        "print('Perte:', perte)"
      ],
      "metadata": {
        "colab": {
          "base_uri": "https://localhost:8080/"
        },
        "id": "R2Hq57_l5pOn",
        "outputId": "9bdd3196-d7ed-4f63-97f3-56de4c28d249"
      },
      "execution_count": 28,
      "outputs": [
        {
          "output_type": "stream",
          "name": "stdout",
          "text": [
            "125/125 [==============================] - 4s 28ms/step - loss: 0.6614 - accuracy: 0.7143\n",
            "Précision : 0.7142500281333923\n",
            "Perte: 0.6614165306091309\n"
          ]
        }
      ]
    },
    {
      "cell_type": "code",
      "source": [
        "# Prédiction sur les données de test\n",
        "y_pred = model.predict(test_sequences)\n",
        "y_pred = (y_pred > 0.5).astype('int')"
      ],
      "metadata": {
        "colab": {
          "base_uri": "https://localhost:8080/"
        },
        "id": "f9ZCs5N68roy",
        "outputId": "d887a112-6593-4cf0-9fd9-f3af409f35c2"
      },
      "execution_count": 29,
      "outputs": [
        {
          "output_type": "stream",
          "name": "stdout",
          "text": [
            "125/125 [==============================] - 4s 28ms/step\n"
          ]
        }
      ]
    },
    {
      "cell_type": "code",
      "source": [
        "# Calcul des métriques de classification\n",
        "recall = recall_score(test_labels, y_pred, average='weighted')\n",
        "f1 = f1_score(test_labels, y_pred, average='weighted')\n",
        "accuracy = accuracy_score(test_labels, y_pred)\n",
        "\n",
        "# Affichage des résultats\n",
        "print(\"Recall score : {:.2f}%\".format(recall*100))\n",
        "print(\"F1-score : {:.2f}%\".format(f1*100))\n",
        "print(\"Accuracy score : {:.2f}%\".format(accuracy*100))"
      ],
      "metadata": {
        "colab": {
          "base_uri": "https://localhost:8080/"
        },
        "id": "JE5okoMwM7eK",
        "outputId": "3de36b70-f934-49d0-ce09-77a24bb55f79"
      },
      "execution_count": 31,
      "outputs": [
        {
          "output_type": "stream",
          "name": "stdout",
          "text": [
            "Recall score : 71.43%\n",
            "F1-score : 71.42%\n",
            "Accuracy score : 71.43%\n"
          ]
        }
      ]
    },
    {
      "cell_type": "markdown",
      "source": [
        "#Etape 5 : Conclusion"
      ],
      "metadata": {
        "id": "Xl62cxo2wNK6"
      }
    },
    {
      "cell_type": "markdown",
      "source": [
        "Les résultats obtenus indiquent que le modèle basé sur les LSTM est nettement supérieur au modèle basé sur les réseaux denses pour la tâche d'analyse de sentiments sur les tweets. En effet, les scores de précision, de rappel et de F1 sont tous supérieurs pour le modèle LSTM par rapport au modèle dense.\n",
        "\n",
        "Cela peut s'expliquer par le fait que les réseaux de neurones récurrents de type LSTM sont particulièrement adaptés à la modélisation de séquences de données, comme les tweets. Les LSTM sont capables de mémoriser des informations à long terme, ce qui est particulièrement utile pour l'analyse de sentiments car le contexte des mots précédents peut influencer le sentiment exprimé dans un tweet.\n",
        "\n",
        "En revanche, le modèle basé sur les réseaux denses ne prend pas en compte le contexte et considère chaque mot de manière indépendante, ce qui peut conduire à une moins bonne performance.\n",
        "\n",
        "En conclusion, pour la tâche d'analyse de sentiments sur des tweets, le modèle basé sur les LSTM est à privilégier. Cependant, il est important de noter que la performance d'un modèle dépend également de la qualité et de la taille du jeu de données utilisé pour l'entraînement."
      ],
      "metadata": {
        "id": "cF9W-F2TwJlw"
      }
    }
  ]
}